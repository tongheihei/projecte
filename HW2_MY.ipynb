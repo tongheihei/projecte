{
  "nbformat": 4,
  "nbformat_minor": 0,
  "metadata": {
    "colab": {
      "name": "HW2-MY",
      "provenance": [],
      "collapsed_sections": [],
      "authorship_tag": "ABX9TyOLZgVkseAW5+iMA1nlrVzt",
      "include_colab_link": true
    },
    "kernelspec": {
      "name": "python3",
      "display_name": "Python 3"
    },
    "language_info": {
      "name": "python"
    },
    "accelerator": "GPU"
  },
  "cells": [
    {
      "cell_type": "markdown",
      "metadata": {
        "id": "view-in-github",
        "colab_type": "text"
      },
      "source": [
        "<a href=\"https://colab.research.google.com/github/tongheihei/projecte/blob/main/HW2_MY.ipynb\" target=\"_parent\"><img src=\"https://colab.research.google.com/assets/colab-badge.svg\" alt=\"Open In Colab\"/></a>"
      ]
    },
    {
      "cell_type": "markdown",
      "source": [
        "下载相关文件"
      ],
      "metadata": {
        "id": "nKuceoI7_Sos"
      }
    },
    {
      "cell_type": "markdown",
      "source": [
        "下载相关文件"
      ],
      "metadata": {
        "id": "ZF7G2Rgr_R6Y"
      }
    },
    {
      "cell_type": "code",
      "execution_count": 7,
      "metadata": {
        "colab": {
          "base_uri": "https://localhost:8080/"
        },
        "id": "Sx6sz_6P_Qfb",
        "outputId": "8ed309aa-e89e-4145-c862-d4bd0267be6b"
      },
      "outputs": [
        {
          "output_type": "stream",
          "name": "stdout",
          "text": [
            "Downloading...\n",
            "From: https://drive.google.com/uc?id=1HPkcmQmFGu-3OknddKIa5dNDsR05lIQR\n",
            "To: /content/data.zip\n",
            "100% 372M/372M [00:01<00:00, 192MB/s]\n",
            "Archive:  data.zip\n",
            "   creating: timit_11/\n",
            "  inflating: timit_11/train_11.npy   \n",
            "  inflating: timit_11/test_11.npy    \n",
            "  inflating: timit_11/train_label_11.npy  \n",
            "data.zip  sample_data  timit_11\n"
          ]
        }
      ],
      "source": [
        "!gdown --id '1HPkcmQmFGu-3OknddKIa5dNDsR05lIQR' --output data.zip\n",
        "!unzip data.zip\n",
        "!ls "
      ]
    },
    {
      "cell_type": "markdown",
      "source": [
        "预处理"
      ],
      "metadata": {
        "id": "YUUZmJ0_DKSb"
      }
    },
    {
      "cell_type": "code",
      "source": [
        "import numpy as np\n",
        "print('Loading data')\n",
        "\n",
        "data_root = './timit_11/'\n",
        "\n",
        "train = np.load(data_root + 'train_11.npy')\n",
        "train_label = np.load(data_root + 'train_label_11.npy')\n",
        "test = np.load(data_root + 'test_11.npy')\n",
        "\n",
        "print('Size of training data: {}'.format(train.shape))\n",
        "print('Size of testing data: {}'.format(test.shape))"
      ],
      "metadata": {
        "colab": {
          "base_uri": "https://localhost:8080/"
        },
        "id": "BhjJi1mtDJky",
        "outputId": "4c683e74-3d4a-4989-891a-bafb2f32dab2"
      },
      "execution_count": 8,
      "outputs": [
        {
          "output_type": "stream",
          "name": "stdout",
          "text": [
            "Loading data\n",
            "Size of training data: (1229932, 429)\n",
            "Size of testing data: (451552, 429)\n"
          ]
        }
      ]
    },
    {
      "cell_type": "markdown",
      "source": [
        "创建Dataset"
      ],
      "metadata": {
        "id": "vsp_xFJUEUwK"
      }
    },
    {
      "cell_type": "code",
      "source": [
        "import torch\n",
        "from torch.utils.data import Dataset\n",
        "\n",
        "class timit_11Dataset(Dataset):\n",
        "  def __init__(self, X, y=None):\n",
        "    self.data = torch.from_numpy(X).float()\n",
        "    if y is not None:\n",
        "      y = y.astype(np.int)\n",
        "      self.label = torch.LongTensor(y)\n",
        "    else:\n",
        "      self.label = None\n",
        "  def __getitem__(self, idx):\n",
        "    if self.label is not None:\n",
        "      return self.data[idx],self.label[idx]\n",
        "    else:\n",
        "      return self.data[idx]\n",
        "  def __len__(self):\n",
        "    return len(self.data)"
      ],
      "metadata": {
        "id": "GprdViJlEX-v"
      },
      "execution_count": 9,
      "outputs": []
    },
    {
      "cell_type": "markdown",
      "source": [
        "切分TRAIN和VAL集合"
      ],
      "metadata": {
        "id": "F-OSWqcAG_WS"
      }
    },
    {
      "cell_type": "code",
      "source": [
        "Val_Ratio = 0.15\n",
        "\n",
        "percent = int(train.shape[0] * (1- Val_Ratio))\n",
        "train_x, train_y, val_x, val_y = train[:percent], train_label[:percent], train[percent:], train_label[percent:]\n",
        "print('Size of training set: {}'.format(train_x.shape))\n",
        "print('Size of validation set : {}'.format(val_x.shape))"
      ],
      "metadata": {
        "colab": {
          "base_uri": "https://localhost:8080/"
        },
        "id": "21CCj_r7HE1R",
        "outputId": "6f1641ea-ca92-4cda-ddce-d6f0f32e586a"
      },
      "execution_count": 10,
      "outputs": [
        {
          "output_type": "stream",
          "name": "stdout",
          "text": [
            "Size of training set: (1045442, 429)\n",
            "Size of validation set : (184490, 429)\n"
          ]
        }
      ]
    },
    {
      "cell_type": "markdown",
      "source": [
        "创建dataloader然后将Dataset导入dataloader\n"
      ],
      "metadata": {
        "id": "ZrM4W8e2IDLZ"
      }
    },
    {
      "cell_type": "code",
      "source": [
        "BATCH_SIZE = 64\n",
        "from torch.utils.data import DataLoader\n",
        "\n",
        "train_set = timit_11Dataset(train_x, train_y)\n",
        "val_set = timit_11Dataset(val_x, val_y)\n",
        "train_loader = DataLoader(train_set, batch_size = BATCH_SIZE, shuffle=True)\n",
        "val_loader = DataLoader(val_set, batch_size = BATCH_SIZE, shuffle = False)\n"
      ],
      "metadata": {
        "id": "t899-ClpILz4"
      },
      "execution_count": 11,
      "outputs": []
    },
    {
      "cell_type": "markdown",
      "source": [
        "创建模型"
      ],
      "metadata": {
        "id": "pLz90nUsKCKv"
      }
    },
    {
      "cell_type": "code",
      "source": [
        "import torch\n",
        "import torch.nn as nn\n",
        "class Classifier(nn.Module):\n",
        "  def __init__(self):\n",
        "    super(Classifier, self).__init__()\n",
        "    self.layer1 = nn.Linear(429, 1024)\n",
        "    self.layer2 = nn.Linear(1024, 512)\n",
        "    self.layer3 = nn.Linear(512, 128)\n",
        "    self.out = nn.Linear(128, 39)\n",
        "    \n",
        "    self.act_fc = nn.ReLU()\n",
        "  def forward(self, x):\n",
        "    x = self.layer1(x)\n",
        "    x = self.act_fc(x)\n",
        "\n",
        "    x = self.layer2(x)\n",
        "    x = self.act_fc(x)\n",
        "\n",
        "    x = self.layer3(x)\n",
        "    x = self.act_fc(x)\n",
        "\n",
        "    x = self.out(x)\n",
        "    return x"
      ],
      "metadata": {
        "id": "ilaaxhBeJUdg"
      },
      "execution_count": 12,
      "outputs": []
    },
    {
      "cell_type": "markdown",
      "source": [
        "训练"
      ],
      "metadata": {
        "id": "V8okCgcKLqZx"
      }
    },
    {
      "cell_type": "code",
      "source": [
        "#查看是否可以用GPU\n",
        "\n",
        "def get_device():\n",
        "  return 'cuda' if torch.cuda.is_available() else 'cpu'"
      ],
      "metadata": {
        "id": "XyHJkupxLrBn"
      },
      "execution_count": 13,
      "outputs": []
    },
    {
      "cell_type": "code",
      "source": [
        "# fix random seed\n",
        "def same_seeds(seed):\n",
        "    torch.manual_seed(seed)\n",
        "    if torch.cuda.is_available():\n",
        "        torch.cuda.manual_seed(seed)\n",
        "        torch.cuda.manual_seed_all(seed)  \n",
        "    np.random.seed(seed)  \n",
        "    torch.backends.cudnn.benchmark = False\n",
        "    torch.backends.cudnn.deterministic = True"
      ],
      "metadata": {
        "id": "macaMfesMT9f"
      },
      "execution_count": 14,
      "outputs": []
    },
    {
      "cell_type": "code",
      "source": [
        "same_seeds(0)\n",
        "\n",
        "device = get_device()\n",
        "\n",
        "print(f'DEVICE:{device}')\n",
        "\n",
        "# 超参数\n",
        "num_epoch = 20\n",
        "learning_rate = 0.0001\n",
        "\n",
        "model_path = './model.ckpt'\n",
        "\n",
        "model = Classifier().to(device)\n",
        "\n",
        "criterion = nn.CrossEntropyLoss()\n",
        "\n",
        "optimizer = torch.optim.Adam(model.parameters(), lr = learning_rate)\n"
      ],
      "metadata": {
        "colab": {
          "base_uri": "https://localhost:8080/"
        },
        "id": "hau19v_gMY5m",
        "outputId": "760509cf-3548-46bd-c67e-9afc0518de6c"
      },
      "execution_count": 15,
      "outputs": [
        {
          "output_type": "stream",
          "name": "stdout",
          "text": [
            "DEVICE:cuda\n"
          ]
        }
      ]
    },
    {
      "cell_type": "code",
      "source": [
        "best_acc = 0.0\n",
        "for epoch in range(num_epoch):\n",
        "  train_acc = 0.0\n",
        "  train_loss = 0.0\n",
        "  val_acc =0.0\n",
        "  val_loss =0.0\n",
        "\n",
        "  model.train()\n",
        "\n",
        "  for i,data in enumerate(train_loader):\n",
        "    inputs, labels = data\n",
        "    inputs, labels = inputs.to(device), labels.to(device)\n",
        "\n",
        "    optimizer.zero_grad()\n",
        "    outputs = model(inputs)\n",
        "\n",
        "    batch_loss = criterion(outputs, labels)\n",
        "    _,train_pred = torch.max(outputs, 1)\n",
        "    batch_loss.backward()\n",
        "    optimizer.step()\n",
        "    train_acc +=(train_pred.cpu() == labels.cpu()).sum().item()\n",
        "    train_loss += batch_loss.item()\n",
        "  \n",
        "\n",
        "  #validation\n",
        "  if len(val_set) > 0:\n",
        "    model.eval()\n",
        "\n",
        "    with torch.no_grad():\n",
        "      for i,data in enumerate(val_loader):\n",
        "      \n",
        "        inputs,labels = data\n",
        "        inputs,labels = inputs.to(device), labels.to(device)\n",
        "        outputs = model(inputs)\n",
        "        batch_loss = criterion(outputs,labels)\n",
        "        _, val_pred = torch.max(outputs, 1)\n",
        "        \n",
        "        val_acc += (val_pred.cpu() == labels.cpu()).sum().item() # get the index of the class with the highest probability\n",
        "        val_loss += batch_loss.item()\n",
        "      print('[{:03d}/{:03d}] Train Acc: {:3.6f} Loss: {:3.6f} | Val Acc: {:3.6f} loss: {:3.6f}'.format(\n",
        "                epoch + 1, num_epoch, train_acc/len(train_set), train_loss/len(train_loader), val_acc/len(val_set), val_loss/len(val_loader)\n",
        "            ))\n",
        "\n",
        "      if val_acc > best_acc:\n",
        "        best_acc = val_acc\n",
        "        torch.save(model.state_dict(), model_path)\n",
        "        print('saving model with acc {:.3f}'.format(best_acc/len(val_set)))\n",
        "  else:\n",
        "      print('[{:03d}/{:03d}] Train Acc: {:3.6f} Loss: {:3.6f}'.format(\n",
        "            epoch + 1, num_epoch, train_acc/len(train_set), train_loss/len(train_loader)\n",
        "        ))\n",
        "\n"
      ],
      "metadata": {
        "colab": {
          "base_uri": "https://localhost:8080/"
        },
        "id": "As6_0vP-ThCd",
        "outputId": "8bf48738-8644-46b7-e9dd-71e5610a04f2"
      },
      "execution_count": 32,
      "outputs": [
        {
          "output_type": "stream",
          "name": "stdout",
          "text": [
            "[001/020] Train Acc: 0.019471 Loss: 3.652962 | Val Acc: 0.018960 loss: 3.653238\n",
            "saving model with acc 0.019\n",
            "[002/020] Train Acc: 0.019471 Loss: 3.652959 | Val Acc: 0.018960 loss: 3.653238\n",
            "[003/020] Train Acc: 0.019471 Loss: 3.652958 | Val Acc: 0.018960 loss: 3.653238\n",
            "[004/020] Train Acc: 0.019471 Loss: 3.652958 | Val Acc: 0.018960 loss: 3.653238\n",
            "[005/020] Train Acc: 0.019471 Loss: 3.652959 | Val Acc: 0.018960 loss: 3.653238\n",
            "[006/020] Train Acc: 0.019471 Loss: 3.652960 | Val Acc: 0.018960 loss: 3.653238\n",
            "[007/020] Train Acc: 0.019471 Loss: 3.652959 | Val Acc: 0.018960 loss: 3.653238\n",
            "[008/020] Train Acc: 0.019471 Loss: 3.652956 | Val Acc: 0.018960 loss: 3.653238\n",
            "[009/020] Train Acc: 0.019471 Loss: 3.652954 | Val Acc: 0.018960 loss: 3.653238\n",
            "[010/020] Train Acc: 0.019471 Loss: 3.652957 | Val Acc: 0.018960 loss: 3.653238\n",
            "[011/020] Train Acc: 0.019471 Loss: 3.652963 | Val Acc: 0.018960 loss: 3.653238\n",
            "[012/020] Train Acc: 0.019471 Loss: 3.652958 | Val Acc: 0.018960 loss: 3.653238\n",
            "[013/020] Train Acc: 0.019471 Loss: 3.652959 | Val Acc: 0.018960 loss: 3.653238\n",
            "[014/020] Train Acc: 0.019471 Loss: 3.652957 | Val Acc: 0.018960 loss: 3.653238\n",
            "[015/020] Train Acc: 0.019471 Loss: 3.652954 | Val Acc: 0.018960 loss: 3.653238\n",
            "[016/020] Train Acc: 0.019471 Loss: 3.652958 | Val Acc: 0.018960 loss: 3.653238\n",
            "[017/020] Train Acc: 0.019471 Loss: 3.652955 | Val Acc: 0.018960 loss: 3.653238\n",
            "[018/020] Train Acc: 0.019471 Loss: 3.652957 | Val Acc: 0.018960 loss: 3.653238\n",
            "[019/020] Train Acc: 0.019471 Loss: 3.652958 | Val Acc: 0.018960 loss: 3.653238\n",
            "[020/020] Train Acc: 0.019471 Loss: 3.652958 | Val Acc: 0.018960 loss: 3.653238\n"
          ]
        }
      ]
    },
    {
      "cell_type": "code",
      "source": [
        "test_set = timit_11Dataset(test, None)\n",
        "test_loader = DataLoader(test_set, batch_size= BATCH_SIZE, shuffle=False)\n",
        "\n",
        "model = Classifier().to(device)\n",
        "model.load_state_dict(torch.load(model_path))"
      ],
      "metadata": {
        "colab": {
          "base_uri": "https://localhost:8080/"
        },
        "id": "fXy7RpSwbEeb",
        "outputId": "672c4e9b-5cb7-408a-9e2d-8c837238d120"
      },
      "execution_count": 33,
      "outputs": [
        {
          "output_type": "execute_result",
          "data": {
            "text/plain": [
              "<All keys matched successfully>"
            ]
          },
          "metadata": {},
          "execution_count": 33
        }
      ]
    },
    {
      "cell_type": "code",
      "source": [
        "predict = []\n",
        "model.eval()\n",
        "with torch.no_grad():\n",
        "  for i,data in enumerate(test_loader):\n",
        "    inputs = data\n",
        "    inputs = inputs.to(device)\n",
        "    outputs = model(inputs)\n",
        "    _,test_pred = torch.max(outputs, 1)\n",
        "\n",
        "    for y in test_pred.cpu().numpy():\n",
        "      predict.append(y)"
      ],
      "metadata": {
        "id": "Ykg-7I6UmAR4"
      },
      "execution_count": 35,
      "outputs": []
    },
    {
      "cell_type": "code",
      "source": [
        "with open('prediction.csv', 'w') as f:\n",
        "    f.write('Id,Class\\n')\n",
        "    for i, y in enumerate(predict):\n",
        "        f.write('{},{}\\n'.format(i, y))"
      ],
      "metadata": {
        "id": "O_bsqS4Nmrc8"
      },
      "execution_count": 36,
      "outputs": []
    },
    {
      "cell_type": "code",
      "source": [
        "!pwd"
      ],
      "metadata": {
        "colab": {
          "base_uri": "https://localhost:8080/"
        },
        "id": "9hVdHyPBqiwe",
        "outputId": "99411ce5-57cb-489e-d888-56225a6c18db"
      },
      "execution_count": 37,
      "outputs": [
        {
          "output_type": "stream",
          "name": "stdout",
          "text": [
            "/content\n"
          ]
        }
      ]
    },
    {
      "cell_type": "code",
      "source": [
        ""
      ],
      "metadata": {
        "id": "rwyvo2ZeqjTg"
      },
      "execution_count": null,
      "outputs": []
    }
  ]
}